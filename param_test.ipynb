{
 "cells": [
  {
   "cell_type": "code",
   "execution_count": null,
   "id": "87248d23",
   "metadata": {},
   "outputs": [],
   "source": [
    "##### Jeu de données #####\n",
    "\n",
    "# Import des données\n",
    "import pandas as pd\n",
    "pam50 = pd.read_csv(\"Data_Pam50.csv\")\n",
    "\n",
    "# Extraction des features (niveau d'expression de divers gènes) et des labels (type de cancer)\n",
    "features = pam50[pam50.columns[2:]]\n",
    "labels = pam50[\"subtype\"]\n",
    "print(\"features :\", list(features.columns))\n",
    "print(len(list(features.columns)))\n",
    "\n",
    "\n"
   ]
  },
  {
   "cell_type": "code",
   "execution_count": 101,
   "id": "c86c066d",
   "metadata": {},
   "outputs": [
    {
     "name": "stdout",
     "output_type": "stream",
     "text": [
      "77\n"
     ]
    }
   ],
   "source": [
    "from sklearn.model_selection import train_test_split\n",
    "from sklearn import tree\n",
    "from sklearn import metrics\n",
    "\n",
    "#Paramétrage du classifieur\n",
    "classifier = tree.DecisionTreeClassifier(max_depth = 3)\n",
    "\n",
    "\n",
    "score = 0\n",
    "i= 0\n",
    "while(i < 1000) :\n",
    "    # Séparation des jeux de données et test\n",
    "    train_features, test_features, train_labels, test_labels = train_test_split(features, labels, test_size = 0.1)\n",
    "    while(set(train_labels.unique()) != set(test_labels.unique())) :\n",
    "        train_features, test_features, train_labels, test_labels = train_test_split(features, labels, test_size = 0.1)\n",
    "    \n",
    "    # Apprentissage\n",
    "    classifier = classifier.fit(train_features, train_labels)\n",
    "\n",
    "    # Test\n",
    "    score += metrics.accuracy_score(test_labels,classifier.predict(test_features))\n",
    "    s +=1\n",
    "    i +=1\n",
    "    \n",
    "print(round(score/10))\n",
    "\n"
   ]
  },
  {
   "cell_type": "code",
   "execution_count": null,
   "id": "89ddeb91",
   "metadata": {},
   "outputs": [],
   "source": [
    "\"\"\"\n",
    "\n",
    "Stopping criterias :\n",
    "\n",
    "max_depth = None : 75%\n",
    "max_depth = 5 : 75%\n",
    "max_debth = 4 : 76%\n",
    "max_depth = 3 : 78%\n",
    "max_depth = 2 : 57%\n",
    "max_depth = 1 : 50%\n",
    "_____________________________\n",
    "Approach :\n",
    "\n",
    "criterion = \"gini\" : 75%\n",
    "criterion = \"entropy\" : 73%\n",
    "\n",
    "splitter = \"best\" : 75%\n",
    "splitter = \"random\" : 75%\n",
    "\n",
    "max_features = 50/None : 75%\n",
    "max_features = 25 : 73%\n",
    "max_features = 10 : 71%\n",
    "max_features = 5 : 69%\n",
    "max_features = 1 :60\n",
    "_____________________________\n",
    "Other :\n",
    "ccp_alpha = 0 : 75%\n",
    "ccp_alpha = 0.001 : 76%\n",
    "ccp_alpha = 0.005 : 76%\n",
    "ccp_alpha = 0.01 : 76%\n",
    "ccp_alpha = 0.1 : 63%\n",
    "ccp_alpha = 1 : 25%\n",
    "\n",
    "_____________________________\n",
    "Combinaisons : \n",
    "\n",
    "ccp_alpha = 0.005, max_depth = 4 : 76\n",
    "ccp_alpha = 0.005, max_depth = 3 : 77\n",
    "ccp_alpha = 0.005, max_depth = 3 : 58\n",
    "\n",
    "max_depth = 3, criterion=\"entropy\" : 73\n",
    "max_depth = 3, splitter = \"random\" : 68\n",
    "\n",
    "\"\"\""
   ]
  }
 ],
 "metadata": {
  "kernelspec": {
   "display_name": "Python 3 (ipykernel)",
   "language": "python",
   "name": "python3"
  },
  "language_info": {
   "codemirror_mode": {
    "name": "ipython",
    "version": 3
   },
   "file_extension": ".py",
   "mimetype": "text/x-python",
   "name": "python",
   "nbconvert_exporter": "python",
   "pygments_lexer": "ipython3",
   "version": "3.8.5"
  }
 },
 "nbformat": 4,
 "nbformat_minor": 5
}
